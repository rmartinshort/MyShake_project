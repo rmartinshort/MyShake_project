{
 "cells": [
  {
   "cell_type": "markdown",
   "metadata": {},
   "source": [
    "### Plot the density ot MyShake reporting in some region. To do this, we'll need to design a grid and color each cell by the number of users within it"
   ]
  },
  {
   "cell_type": "markdown",
   "metadata": {},
   "source": [
    "Design a grid and then figure out what phones are inside each cell. This will be needed in the noise analysis\n",
    "\n",
    "In the Inbal paper, they group the users intp 4km sq cells and then stack the spectral amplitudes in each cell to make a noise model. We are probably going to need a larger grid cell, but since we can record when we want, we potientally have a very large data source. \n",
    "\n",
    "We first need to create a fast way to access the users cell by cell. The data for these users can then be found and processed \n"
   ]
  },
  {
   "cell_type": "code",
   "execution_count": 109,
   "metadata": {},
   "outputs": [],
   "source": [
    "import numpy as np\n",
    "import pandas as pd\n",
    "import geopy.distance\n",
    "import utm\n",
    "import matplotlib.pyplot as plt\n",
    "import glob"
   ]
  },
  {
   "cell_type": "code",
   "execution_count": 231,
   "metadata": {},
   "outputs": [],
   "source": [
    "region_code = 'LA'\n",
    "regions = {'LA':[33,34.5,-118.7,-117.2]}\n",
    "\n",
    "#Set up the coordinates of the region we wish to investiage\n",
    "region = regions[region_code]\n",
    "lat_min = region[0]\n",
    "lat_max = region[1]\n",
    "lon_min = region[2]\n",
    "lon_max = region[3]"
   ]
  },
  {
   "cell_type": "code",
   "execution_count": 232,
   "metadata": {},
   "outputs": [
    {
     "data": {
      "text/plain": [
       "(11, 11, 11, 11)"
      ]
     },
     "execution_count": 232,
     "metadata": {},
     "output_type": "execute_result"
    }
   ],
   "source": [
    "#lower left \n",
    "x1,y1,z1,u = utm.from_latlon(lat_min,lon_min)\n",
    "#upper left \n",
    "x2,y2,z2,u = utm.from_latlon(lat_max,lon_min)\n",
    "#upper right \n",
    "x3,y3,z3,u = utm.from_latlon(lat_max,lon_max)\n",
    "#lower right\n",
    "x4,y4,z4,u = utm.from_latlon(lat_min,lon_max)\n",
    "\n",
    "#Distance along width (latitude)\n",
    "Wd = geopy.distance.vincenty((lat_min,lon_min),(lat_max,lon_min)).m\n",
    "#Distance along length (longitude)\n",
    "Ld = geopy.distance.vincenty((lat_min,lon_min),(lat_min,lon_max)).m\n",
    "\n",
    "z1,z2,z3,z4\n"
   ]
  },
  {
   "cell_type": "code",
   "execution_count": 233,
   "metadata": {},
   "outputs": [],
   "source": [
    "#Direction along width (latitude)\n",
    "theta = np.arctan((y2-y1)/(x2-x1))\n",
    "#Direction along length (longitude)\n",
    "phi = np.arctan((y4-y1)/(x4-x1))"
   ]
  },
  {
   "cell_type": "markdown",
   "metadata": {},
   "source": [
    "Open the files that contain information about which phones triggered and load their data. For every grid cell we're going to color by the number of phones inside"
   ]
  },
  {
   "cell_type": "code",
   "execution_count": 234,
   "metadata": {},
   "outputs": [
    {
     "name": "stdout",
     "output_type": "stream",
     "text": [
      "139\n"
     ]
    }
   ],
   "source": [
    "did_trigger = glob.glob('Devices_triggered*')\n",
    "dfs = []\n",
    "for infile in did_trigger[:2]:\n",
    "    tmp = pd.read_csv(infile,index_col=0)\n",
    "    dfs.append(tmp)\n",
    "\n",
    "all_triggers = pd.concat(dfs)\n",
    "print(len(all_triggers))"
   ]
  },
  {
   "cell_type": "code",
   "execution_count": 235,
   "metadata": {},
   "outputs": [
    {
     "data": {
      "text/html": [
       "<div>\n",
       "<style scoped>\n",
       "    .dataframe tbody tr th:only-of-type {\n",
       "        vertical-align: middle;\n",
       "    }\n",
       "\n",
       "    .dataframe tbody tr th {\n",
       "        vertical-align: top;\n",
       "    }\n",
       "\n",
       "    .dataframe thead th {\n",
       "        text-align: right;\n",
       "    }\n",
       "</style>\n",
       "<table border=\"1\" class=\"dataframe\">\n",
       "  <thead>\n",
       "    <tr style=\"text-align: right;\">\n",
       "      <th></th>\n",
       "      <th>deviceId</th>\n",
       "      <th>triggerTimer</th>\n",
       "      <th>latitude</th>\n",
       "      <th>longitude</th>\n",
       "      <th>accuracy</th>\n",
       "      <th>altitude</th>\n",
       "      <th>triggerFrom</th>\n",
       "    </tr>\n",
       "  </thead>\n",
       "  <tbody>\n",
       "    <tr>\n",
       "      <th>0</th>\n",
       "      <td>71adf5de-e1ce-344e-b115-488778bf2500</td>\n",
       "      <td>2018-09-08 04:30:17.836</td>\n",
       "      <td>34.403006</td>\n",
       "      <td>-118.547332</td>\n",
       "      <td>6.432000</td>\n",
       "      <td>348.758789</td>\n",
       "      <td>6</td>\n",
       "    </tr>\n",
       "    <tr>\n",
       "      <th>1</th>\n",
       "      <td>e2cccb36-2617-3dde-b8c0-d920792377eb</td>\n",
       "      <td>2018-09-08 04:30:17.871</td>\n",
       "      <td>34.259554</td>\n",
       "      <td>-118.519162</td>\n",
       "      <td>17.152000</td>\n",
       "      <td>278.339966</td>\n",
       "      <td>6</td>\n",
       "    </tr>\n",
       "    <tr>\n",
       "      <th>2</th>\n",
       "      <td>bfeda025-5028-339a-a90b-95b525dbc441</td>\n",
       "      <td>2018-09-08 04:30:17.943</td>\n",
       "      <td>34.449757</td>\n",
       "      <td>-118.680361</td>\n",
       "      <td>16.080000</td>\n",
       "      <td>429.000000</td>\n",
       "      <td>6</td>\n",
       "    </tr>\n",
       "    <tr>\n",
       "      <th>3</th>\n",
       "      <td>7beb637f-2166-3c24-96df-0b3aa00189a7</td>\n",
       "      <td>2018-09-08 04:30:17.950</td>\n",
       "      <td>34.051730</td>\n",
       "      <td>-118.446258</td>\n",
       "      <td>19.296001</td>\n",
       "      <td>29.000000</td>\n",
       "      <td>6</td>\n",
       "    </tr>\n",
       "    <tr>\n",
       "      <th>4</th>\n",
       "      <td>a4825018-a986-3377-97cb-0a02ce62ac7c</td>\n",
       "      <td>2018-09-08 04:30:17.979</td>\n",
       "      <td>33.971549</td>\n",
       "      <td>-118.352362</td>\n",
       "      <td>20.525000</td>\n",
       "      <td>0.000000</td>\n",
       "      <td>6</td>\n",
       "    </tr>\n",
       "  </tbody>\n",
       "</table>\n",
       "</div>"
      ],
      "text/plain": [
       "                               deviceId             triggerTimer   latitude  \\\n",
       "0  71adf5de-e1ce-344e-b115-488778bf2500  2018-09-08 04:30:17.836  34.403006   \n",
       "1  e2cccb36-2617-3dde-b8c0-d920792377eb  2018-09-08 04:30:17.871  34.259554   \n",
       "2  bfeda025-5028-339a-a90b-95b525dbc441  2018-09-08 04:30:17.943  34.449757   \n",
       "3  7beb637f-2166-3c24-96df-0b3aa00189a7  2018-09-08 04:30:17.950  34.051730   \n",
       "4  a4825018-a986-3377-97cb-0a02ce62ac7c  2018-09-08 04:30:17.979  33.971549   \n",
       "\n",
       "    longitude   accuracy    altitude  triggerFrom  \n",
       "0 -118.547332   6.432000  348.758789            6  \n",
       "1 -118.519162  17.152000  278.339966            6  \n",
       "2 -118.680361  16.080000  429.000000            6  \n",
       "3 -118.446258  19.296001   29.000000            6  \n",
       "4 -118.352362  20.525000    0.000000            6  "
      ]
     },
     "execution_count": 235,
     "metadata": {},
     "output_type": "execute_result"
    }
   ],
   "source": [
    "all_triggers.head()"
   ]
  },
  {
   "cell_type": "markdown",
   "metadata": {},
   "source": [
    "As a test of how long this might take, we're going to produce a map showing the density of all triggers since 01.01.2016 to 01.09.2018.\n",
    "To do this we must load this large data file containing the trigger metadata"
   ]
  },
  {
   "cell_type": "code",
   "execution_count": 236,
   "metadata": {},
   "outputs": [
    {
     "name": "stderr",
     "output_type": "stream",
     "text": [
      "/Users/rmartinshort/anaconda/envs/py36/lib/python3.6/site-packages/numpy/lib/arraysetops.py:522: FutureWarning: elementwise comparison failed; returning scalar instead, but in the future will perform elementwise comparison\n",
      "  mask |= (ar1 == a)\n"
     ]
    }
   ],
   "source": [
    "triggers_all = \"/Users/rmartinshort/Documents/Berkeley/MyShake_project/Triggering_stats/trigger_databases/Devices_triggered_all_since_2016.csv\"\n",
    "all_triggers = pd.read_csv(triggers_all,index_col=0)"
   ]
  },
  {
   "cell_type": "code",
   "execution_count": 259,
   "metadata": {},
   "outputs": [
    {
     "data": {
      "image/png": "[encoded data removed]",
      "text/plain": [
       "<Figure size 720x720 with 1 Axes>"
      ]
     },
     "metadata": {},
     "output_type": "display_data"
    }
   ],
   "source": [
    "#Generate grid cells at nm spacing along the distances\n",
    "#Note that the UTM coordinates are in meters\n",
    "n_x = 2000\n",
    "n_y = 2000\n",
    "grid_points = []\n",
    "\n",
    "lx = len(np.arange(n_x,Ld,n_x))\n",
    "ly = len(np.arange(n_y,Wd,n_y))\n",
    "\n",
    "#Fill this grid with the number of phone users in each cell\n",
    "image_grid = np.zeros([ly,lx])\n",
    "\n",
    "fig = plt.figure(figsize=(10,10))\n",
    "i=0\n",
    "for y_step in np.arange(n_y,Wd,n_y):\n",
    "    y_step_dir = y_step*np.sin(theta)\n",
    "    \n",
    "    #Generate upper and lower bound for y\n",
    "    y_new = y1 + y_step_dir\n",
    "    y_old = y_new - n_y \n",
    "    j = 0\n",
    "    for x_step in np.arange(n_x,Ld,n_x):\n",
    "        x_step_dir = x_step*np.cos(phi)\n",
    "        \n",
    "        #Generate upper and lower bound for y\n",
    "        x_new = x1 + x_step_dir\n",
    "        x_old = x_new - n_x\n",
    "        \n",
    "        #Area of the grid cell in km^2\n",
    "        area = (abs(y_new-y_old)*abs(x_new-x_old))/1e6\n",
    "        \n",
    "        #append lower left and upper right coordinates of each grid \n",
    "        #cell to this list. We will use these later to select the \n",
    "        #users in each cell\n",
    "        \n",
    "        (old_lat,old_lon) = utm.to_latlon(x_old,y_old,z1,u)\n",
    "        (new_lat,new_lon) = utm.to_latlon(x_new,y_new,z1,u)\n",
    "        \n",
    "        #Extract just the users that lie within the grid cell of interest\n",
    "        \n",
    "        users_between = all_triggers[(all_triggers['latitude'] >= old_lat) & (all_triggers['latitude'] <= new_lat) & \n",
    "                                    (all_triggers['longitude'] >= old_lon) & (all_triggers['longitude'] <= new_lon)]\n",
    "        \n",
    "        number_of_users = len(users_between)\n",
    "        if number_of_users == 0:\n",
    "            image_grid[i,j] = np.nan\n",
    "        else:\n",
    "            image_grid[i,j] = number_of_users\n",
    "            \n",
    "        #This is going to plot the grid of points\n",
    "        \n",
    "        plt.plot([old_lon,new_lon,new_lon,old_lon,old_lon],[old_lat,old_lat,new_lat,new_lat,old_lat],\n",
    "                 'k-',alpha=0.3)\n",
    "        \n",
    "        #For each cell we now have a set of users and data file locations (if we use the full data frame). We can then easily access \n",
    "        #the data on a cell-by cell basis and do the noise analysis on it\n",
    "        \n",
    "        grid_points.append([(old_lon,old_lat),(new_lon,old_lat),(new_lon,new_lat),(old_lon,new_lat),area,number_of_users])\n",
    "        j += 1\n",
    "    i+= 1\n",
    "        \n",
    "        \n",
    "        "
   ]
  },
  {
   "cell_type": "code",
   "execution_count": 256,
   "metadata": {},
   "outputs": [
    {
     "name": "stdout",
     "output_type": "stream",
     "text": [
      "nan\n"
     ]
    },
    {
     "data": {
      "text/plain": [
       "<matplotlib.colorbar.Colorbar at 0x12b705080>"
      ]
     },
     "execution_count": 256,
     "metadata": {},
     "output_type": "execute_result"
    },
    {
     "data": {
      "image/png": "[encoded data removed]",
      "text/plain": [
       "<Figure size 720x720 with 2 Axes>"
      ]
     },
     "metadata": {},
     "output_type": "display_data"
    }
   ],
   "source": [
    "print(np.sum(image_grid))\n",
    "plt.figure(figsize=(10,10))\n",
    "plt.imshow(image_grid,extent=(lon_min,lon_max,lat_max,lat_min),cmap='jet',aspect='equal')\n",
    "plt.gca().invert_yaxis()\n",
    "plt.colorbar()"
   ]
  },
  {
   "cell_type": "code",
   "execution_count": 49,
   "metadata": {},
   "outputs": [
    {
     "data": {
      "text/plain": [
       "3817615.3991421526"
      ]
     },
     "execution_count": 49,
     "metadata": {},
     "output_type": "execute_result"
    }
   ],
   "source": [
    "y3"
   ]
  },
  {
   "cell_type": "code",
   "execution_count": 50,
   "metadata": {},
   "outputs": [
    {
     "data": {
      "text/plain": [
       "3651304.703776421"
      ]
     },
     "execution_count": 50,
     "metadata": {},
     "output_type": "execute_result"
    }
   ],
   "source": [
    "y4"
   ]
  },
  {
   "cell_type": "code",
   "execution_count": 51,
   "metadata": {},
   "outputs": [
    {
     "data": {
      "text/plain": [
       "3652570.391255742"
      ]
     },
     "execution_count": 51,
     "metadata": {},
     "output_type": "execute_result"
    }
   ],
   "source": [
    "y1"
   ]
  },
  {
   "cell_type": "markdown",
   "metadata": {},
   "source": [
    "#### Plot this on top of an actual map"
   ]
  },
  {
   "cell_type": "code",
   "execution_count": 258,
   "metadata": {},
   "outputs": [
    {
     "data": {
      "image/png": "[encoded data removed]",
      "text/plain": [
       "<Figure size 720x720 with 2 Axes>"
      ]
     },
     "metadata": {},
     "output_type": "display_data"
    }
   ],
   "source": [
    "from mpl_toolkits.basemap import Basemap\n",
    "from matplotlib.patches import Polygon\n",
    "from matplotlib.collections import PatchCollection\n",
    "plt.rcParams['image.cmap'] = 'jet'\n",
    "\n",
    "plt.figure(figsize=(10,10))\n",
    "map = Basemap(llcrnrlon=-118.7, llcrnrlat=33., urcrnrlon=-117.2, urcrnrlat=34.5, \n",
    "              lat_0=33.75, lon_0=-118, resolution = 'h')\n",
    "\n",
    "#map.drawmapboundary(fill_color='aqua')\n",
    "#map.fillcontinents(color='coral',lake_color='aqua')\n",
    "map.drawcoastlines(linewidth=3,color='red')\n",
    "\n",
    "patches = []\n",
    "colors = []\n",
    "\n",
    "for p in grid_points:\n",
    "    \n",
    "    number_of_users = p[-1]\n",
    "    \n",
    "    if number_of_users > 0:\n",
    "    \n",
    "        cx1,cy1 = map(p[0][0],p[0][1])\n",
    "        cx2,cy2 = map(p[1][0],p[1][1])\n",
    "        cx3,cy3 = map(p[2][0],p[2][1])\n",
    "        cx4,cy4 = map(p[3][0],p[3][1])\n",
    "        poly = Polygon([(cx1,cy1),(cx2,cy2),(cx3,cy3),(cx4,cy4)])\n",
    "        colors.append(number_of_users)\n",
    "        patches.append(poly)\n",
    "\n",
    "collection = PatchCollection(patches)\n",
    "collection.set_array(np.array(colors))\n",
    "plt.gca().add_collection(collection)    \n",
    "#collection.set_color(cmap(colors))\n",
    "plt.colorbar(collection)\n",
    "\n",
    "map.fillcontinents(color='coral',lake_color='aqua',alpha=0.05)\n",
    "plt.show()"
   ]
  },
  {
   "cell_type": "markdown",
   "metadata": {},
   "source": [
    "Some of the devices look as if they're in the sea, which is obviously not correct (unless they're on ships?)\n",
    "This might be related to the accuracy of the GPS readings from the phones"
   ]
  },
  {
   "cell_type": "markdown",
   "metadata": {},
   "source": [
    "#### Lets plot all the devices in GMT"
   ]
  },
  {
   "cell_type": "code",
   "execution_count": 251,
   "metadata": {},
   "outputs": [],
   "source": [
    "tmp = all_triggers[['longitude','latitude']].to_csv('Phone_locations.dat',index=False)"
   ]
  },
  {
   "cell_type": "code",
   "execution_count": null,
   "metadata": {},
   "outputs": [],
   "source": []
  }
 ],
 "metadata": {
  "kernelspec": {
   "display_name": "Python 3",
   "language": "python",
   "name": "python3"
  },
  "language_info": {
   "codemirror_mode": {
    "name": "ipython",
    "version": 3
   },
   "file_extension": ".py",
   "mimetype": "text/x-python",
   "name": "python",
   "nbconvert_exporter": "python",
   "pygments_lexer": "ipython3",
   "version": "3.6.4"
  }
 },
 "nbformat": 4,
 "nbformat_minor": 2
}
